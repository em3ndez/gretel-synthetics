{
 "cells": [
  {
   "cell_type": "code",
   "execution_count": null,
   "metadata": {},
   "outputs": [],
   "source": [
    "from pathlib import Path\n",
    "\n",
    "from gretel_synthetics.train import train\n",
    "from gretel_synthetics.generate import generate_text\n",
    "from gretel_synthetics.config import TensorFlowConfig\n",
    "from gretel_synthetics.tokenizers import CharTokenizerTrainer"
   ]
  },
  {
   "cell_type": "code",
   "execution_count": null,
   "metadata": {},
   "outputs": [],
   "source": [
    "# This config will utilize TensorFlow Privacy to inject noised into the trained model.\n",
    "# The privacy guarantees and \n",
    "\n",
    "config = TensorFlowConfig(\n",
    "    max_lines=1e5,\n",
    "    dp=True,\n",
    "    predict_batch_size=1,\n",
    "    rnn_units=256,\n",
    "    batch_size=16,\n",
    "    learning_rate=0.0015,\n",
    "    dp_noise_multiplier=0.2,\n",
    "    dp_l2_norm_clip=1.0,\n",
    "    dropout_rate=0.5,\n",
    "    dp_microbatches=1,\n",
    "    reset_states=False,\n",
    "    overwrite=True,\n",
    "    checkpoint_dir=(Path.cwd() / 'dp-checkpoints').as_posix(),\n",
    "    # The \"Netflix Challenge\", dataset\n",
    "    input_data_path='https://gretel-public-website.s3.amazonaws.com/datasets/netflix/netflix.txt'\n",
    ")"
   ]
  },
  {
   "cell_type": "code",
   "execution_count": null,
   "metadata": {},
   "outputs": [],
   "source": [
    "tokenizer = CharTokenizerTrainer(config=config)"
   ]
  },
  {
   "cell_type": "code",
   "execution_count": null,
   "metadata": {},
   "outputs": [],
   "source": [
    "train(config, tokenizer)"
   ]
  },
  {
   "cell_type": "code",
   "execution_count": null,
   "metadata": {},
   "outputs": [],
   "source": [
    "# Build a validator\n",
    "def validate_record(line):\n",
    "    rec = line.split(\",\")\n",
    "    if len(rec) == 4:\n",
    "        int(rec[2])\n",
    "        int(rec[1])\n",
    "        int(rec[0])\n",
    "    else:\n",
    "        raise Exception('record not 4 parts')"
   ]
  },
  {
   "cell_type": "code",
   "execution_count": null,
   "metadata": {},
   "outputs": [],
   "source": [
    "from collections import Counter\n",
    "import pandas as pd\n",
    "import json\n",
    "from gretel_synthetics.errors import TooManyInvalidError\n",
    "\n",
    "counter = Counter()\n",
    "\n",
    "try:\n",
    "    for line in generate_text(config, line_validator=validate_record, max_invalid=config.gen_lines):\n",
    "        counter[line.valid] += 1\n",
    "        total_count = counter[True] + counter[False]\n",
    "        if total_count % 10 == 0:\n",
    "            print(f\"{total_count}/{config.gen_lines} : {line.text}\")\n",
    "except TooManyInvalidError:\n",
    "    pass\n",
    "\n",
    "# extract training params\n",
    "df = pd.read_csv(f\"{config.checkpoint_dir}/model_history.csv\")\n",
    "loss = df[df['best'] == 1]['loss'].values[0]\n",
    "accuracy = df[df['best'] == 1]['accuracy'].values[0]\n",
    "epsilon = df[df['best'] == 1]['epsilon'].values[0]\n",
    "delta = df[df['best'] == 1]['delta'].values[0]\n",
    "total = sum(counter.values())\n",
    "valid_percent = counter[True] / total * 100.0\n",
    "\n",
    "run_stats = {\n",
    "    \"dp\": config.dp,\n",
    "    \"epochs\": config.epochs,\n",
    "    \"learning_rate\": config.learning_rate,\n",
    "    \"loss\": loss,\n",
    "    \"accuracy\": accuracy,\n",
    "    \"epsilon\": epsilon,\n",
    "    \"delta\": delta,\n",
    "    \"valid_count\": int(counter[True]),\n",
    "    \"invalid_count\": int(counter[False]),\n",
    "    \"valid_percent\": valid_percent\n",
    "}\n",
    "\n",
    "print(json.dumps(run_stats, indent=2))"
   ]
  }
 ],
 "metadata": {
  "kernelspec": {
   "display_name": "Python 3",
   "language": "python",
   "name": "python3"
  },
  "language_info": {
   "codemirror_mode": {
    "name": "ipython",
    "version": 3
   },
   "file_extension": ".py",
   "mimetype": "text/x-python",
   "name": "python",
   "nbconvert_exporter": "python",
   "pygments_lexer": "ipython3",
   "version": "3.7.5"
  }
 },
 "nbformat": 4,
 "nbformat_minor": 4
}
